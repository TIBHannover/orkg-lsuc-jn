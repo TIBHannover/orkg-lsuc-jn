{
 "cells": [
  {
   "cell_type": "markdown",
   "metadata": {},
   "source": [
    "Iron-regulatory proteins secure iron availability in cardiomyocytes to prevent heart failure\n",
    "=======================\n",
    "\n",
    "Saba Haddad, Yong Wang, Bruno Galy, Mortimer Korf-Klingebiel, Valentin Hirsch, Abdul M. Baru, [![iD](https://orcid.org/sites/default/files/images/orcid_16x16.png)](https://orcid.org/0000-0002-0992-6227) Fatemeh Rostami, Marc R. Reboll, Jörg Heineke, Ulrich Flögel, Stephanie Groos, André Renner, Karl Toischer, Fabian Zimmermann, Stefan Engeli, Jens Jordan, Johann Bauersachs, Matthias W. Hentze, Kai C. Wollert, Tibor Kempf\n",
    "\n",
    "*European Heart Journal*, Volume 38, Issue 5, 1 February 2017, Pages 362–372, [https://doi.org/10.1093/eurheartj/ehw333](https://doi.org/10.1093/eurheartj/ehw333)"
   ]
  },
  {
   "cell_type": "markdown",
   "metadata": {},
   "source": [
    "## Results\n",
    "---"
   ]
  },
  {
   "cell_type": "markdown",
   "metadata": {},
   "source": [
    "### Reduced iron content, IRE binding activity, and transferrin receptor expression in the failing human heart"
   ]
  },
  {
   "cell_type": "code",
   "execution_count": null,
   "metadata": {
    "tags": [
     "hide-input",
     "remove-output",
     "margin",
     "full-width"
    ]
   },
   "outputs": [],
   "source": [
    "import math\n",
    "import numpy as np\n",
    "import pandas as pd\n",
    "from myst_nb import glue\n",
    "from scipy.stats import ttest_ind\n",
    "from matplotlib import pyplot as plt\n",
    "\n",
    "labels = ['non-failing heart (NF)', 'failing heart (F)']\n",
    "data = [(99, 52), (96, 40), (100, 38), (105, 18), \n",
    "        (np.nan, 11), (np.nan, 5), (np.nan, 42), \n",
    "        (np.nan, 55), (np.nan, 53), (np.nan, 39),\n",
    "        (np.nan, 42), (np.nan, 50)]\n",
    "\n",
    "df = pd.DataFrame.from_records(data, columns=labels)\n",
    "tt = ttest_ind(df['non-failing heart (NF)'], \n",
    "               df['failing heart (F)'], \n",
    "               equal_var=False, nan_policy='omit')\n",
    "\n",
    "pvalue = tt.pvalue\n",
    "\n",
    "glue('pvalue', math.ceil(pvalue * 1000.0) / 1000.0)"
   ]
  },
  {
   "cell_type": "markdown",
   "metadata": {},
   "source": [
    "Consistent with previous reports {cite}`maeder2011,leszek2012` iron concentration was significantly lower in LV tissue samples from patients with advanced heart failure than in LV tissue samples from unused donor hearts. As shown by electrophoretic mobility shift assays, IRE binding activity was significantly (*p* < {glue:}`pvalue`) reduced in failing hearts (most pronounced in patients with ischemic cardiomyopathy) ({ref}`Figure 1<fig1>`). Protein expression levels of the transferrin receptor were significantly lower in failing hearts than in the controls. "
   ]
  },
  {
   "cell_type": "code",
   "execution_count": null,
   "metadata": {
    "tags": [
     "hide-input",
     "remove-output",
     "margin",
     "full-width"
    ]
   },
   "outputs": [],
   "source": [
    "fig, ax = plt.subplots()\n",
    "\n",
    "d = df.to_numpy()\n",
    "f = [d[m] for d, m in zip(d.T, ~np.isnan(d).T)]\n",
    "\n",
    "ax.boxplot(f)\n",
    "ax.set_ylim([0, 150])\n",
    "ax.set_ylabel('IRE binding activity (%)', fontsize=14)\n",
    "ax.set_xticklabels(['NF', 'F'])\n",
    "ax.tick_params(axis='x', labelsize=14, labelrotation=45)\n",
    "ax.tick_params(axis='y', labelsize=14)\n",
    "\n",
    "glue('fig1', fig, display=False)"
   ]
  },
  {
   "cell_type": "markdown",
   "metadata": {},
   "source": [
    "```{glue:figure} fig1\n",
    ":figwidth: 800px\n",
    ":name: fig1\n",
    "\n",
    "IRE binding activity for non-failing (NF) and failing (F) hearts.\n",
    "```"
   ]
  },
  {
   "cell_type": "markdown",
   "metadata": {},
   "source": [
    "## References\n",
    "\n",
    "```{bibliography} references.bib\n",
    ":filter: docname in docnames\n",
    "```"
   ]
  }
 ],
 "metadata": {
  "kernelspec": {
   "display_name": "Python 3",
   "language": "python",
   "name": "python3"
  },
  "language_info": {
   "codemirror_mode": {
    "name": "ipython",
    "version": 3
   },
   "file_extension": ".py",
   "mimetype": "text/x-python",
   "name": "python",
   "nbconvert_exporter": "python",
   "pygments_lexer": "ipython3",
   "version": "3.7.4"
  }
 },
 "nbformat": 4,
 "nbformat_minor": 4
}
